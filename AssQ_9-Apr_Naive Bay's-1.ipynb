{
 "cells": [
  {
   "cell_type": "markdown",
   "id": "67763ad4-3641-482f-8313-cc2568d182b8",
   "metadata": {},
   "source": [
    "# AssQ 09-Apr- Naive Bayes - 1"
   ]
  },
  {
   "cell_type": "code",
   "execution_count": null,
   "id": "426d3100-27f1-4dca-b1a5-f709f7c9e8c3",
   "metadata": {},
   "outputs": [],
   "source": [
    "Q1. What is Bayes' theorem?"
   ]
  },
  {
   "cell_type": "code",
   "execution_count": null,
   "id": "27a7c08d-74df-4464-8cc0-de17ea6a9f9b",
   "metadata": {},
   "outputs": [],
   "source": [
    "Bayes' Theorem states that the conditional probability of an event,\n",
    "based on the occurrence of another event,\n",
    "is equal to the likelihood of the second event given\n",
    "the first event multiplied by the probability of the first event.\n",
    "\n",
    "Pr(A/B) = [ Pr(A) * Pr(B/A)] / Pr(B)\n",
    "\n",
    "P (A | B) is the probability of event A being true when event B is true.\n",
    "P (B | A) is the probability of event B being true when event A is true. P (A) is the probability of event A being true.\n",
    "P (B) is the probability of event B being true.\n",
    "\n",
    "Bayes' theorem describes the probability of occurrence of an event related to any condition.\n",
    "It is also considered for the case of conditional probability. Bayes theorem is also known as the formula for the probability of “causes”.\n",
    "\n",
    "P(A|B) – the probability of event A occurring, given event B has occurred.\n",
    "P(B|A) – the probability of event B occurring, given event A has occurred.\n",
    "P(A) – the probability of event A.\n"
   ]
  },
  {
   "cell_type": "code",
   "execution_count": null,
   "id": "f9dd3efd-2208-4531-b638-afb2573348c3",
   "metadata": {},
   "outputs": [],
   "source": []
  },
  {
   "cell_type": "code",
   "execution_count": null,
   "id": "2db8b2bb-ce1a-4341-90ab-10436558e63f",
   "metadata": {},
   "outputs": [],
   "source": [
    "Q2. What is the formula for Bayes' theorem?"
   ]
  },
  {
   "cell_type": "code",
   "execution_count": null,
   "id": "78697e1f-3211-4e15-b69e-f5742fc1cae2",
   "metadata": {},
   "outputs": [],
   "source": [
    "Pr(A/B) = [ Pr(A) * Pr(B/A)] / Pr(B)\n",
    "\n",
    "P (A | B) is the probability of event A being true when event B is true.\n",
    "P (B | A) is the probability of event B being true when event A is true. P (A) is the probability of event A being true.\n",
    "P (B) is the probability of event B being true."
   ]
  },
  {
   "cell_type": "code",
   "execution_count": null,
   "id": "f002e9a1-80f6-4be8-ad4d-017140e8f39d",
   "metadata": {},
   "outputs": [],
   "source": []
  },
  {
   "cell_type": "code",
   "execution_count": null,
   "id": "43d337dd-3222-47c7-9481-c7693fb95ba2",
   "metadata": {},
   "outputs": [],
   "source": [
    "Q3. How is Bayes' theorem used in practice?"
   ]
  },
  {
   "cell_type": "code",
   "execution_count": null,
   "id": "2f7d8e90-41cd-476a-a45b-94c7789e4d1b",
   "metadata": {},
   "outputs": [],
   "source": [
    "Bayes' Theorem states that the conditional probability of an event, based on the occurrence of another event, \n",
    "is equal to the likelihood of the second event given the first event multiplied by the probability of the first event."
   ]
  },
  {
   "cell_type": "code",
   "execution_count": null,
   "id": "15ea6c2c-750e-4999-ba43-6b671ed4d8b5",
   "metadata": {},
   "outputs": [],
   "source": [
    "Bayes' Theorem thus gives the probability of an event based on new information that is,\n",
    "or may be,related to that event. The formula can also be used to determine how the probability \n",
    "of an event occurring may be affected by hypothetical new information, \n",
    "supposing the new information will turn out to be true.\n",
    "\n",
    "Bayes' theorem does not only apply in mathematics, but it also has many real life applications such as in\n",
    "Internet Marketing to profile visitors to a website, \n",
    "in Decision Analysis and Decision Trees,\n",
    "\n",
    "For example, if a disease is related to age, then, using Bayes' theorem, a person's age can be used\n",
    "to more accurately assess the probability that they have the disease,\n",
    "compared to the assessment of the probability of disease made without knowledge of the person's age.\n",
    "\n",
    "Famous mathematician Thomas Bayes gave this theorem to solve the problem of finding reverse probability by using conditional probability.\n",
    "P ( E i | A ) = P ( A | E i ) . P ( E i ) ∑ i = 1 n P ( A | E i ) .\n",
    "\n",
    "I might say: I think there is a 50% chance it will rain tomorrow. It is a valid statement of a Bayesian probability,\n",
    "but not of a frequentist one  (since I haven't observed tomorrow's weather many times)."
   ]
  },
  {
   "cell_type": "code",
   "execution_count": null,
   "id": "e449509f-d831-449e-8b68-946061d2abb6",
   "metadata": {},
   "outputs": [],
   "source": []
  },
  {
   "cell_type": "code",
   "execution_count": null,
   "id": "a1604e8a-3f82-452a-8884-40d5c7bec720",
   "metadata": {},
   "outputs": [],
   "source": [
    "Q4. What is the relationship between Bayes' theorem and conditional probability?"
   ]
  },
  {
   "cell_type": "code",
   "execution_count": null,
   "id": "0524753f-f85b-48aa-aa83-59c37492fb10",
   "metadata": {},
   "outputs": [],
   "source": [
    "Bayes' Theorem states that the conditional probability of an event, based on the occurrence of another event,\n",
    "is equal to the likelihood of the second event given the first event multiplied by the probability of the first event.\n",
    "\n",
    "Conditional Probability is the probability of occurrence of a certain event, say A,\n",
    "based on some other event whether B is true or not. \n",
    "Bayes Theorem includes two conditional probabilities for the events, say A and B.\n",
    "It is used to compute the conditional probability and the events A and B are relatively simple.\n",
    "\n",
    "The conditional probability can be calculated using the joint probability; for example: P(A | B) = P(A, B) / P(B)\n",
    "\n",
    "The Naive Bayes classifier works on the principle of conditional probability, as given by the Bayes theorem. \n",
    "While calculating the math on probability, we usually denote probability as P.\n",
    "Some of the probabilities in this event would be as follows: The probability of getting two heads = 1/4.\n",
    "\n",
    "Bayes Theorem is the extension of Conditional probability.\n",
    "Conditional probability helps us to determine the probability of A given B, denoted by P(A|B). \n",
    "So Bayes' theorem says if we know P(A|B) then we can determine P(B|A), given that P(A) and P(B) are known to us."
   ]
  },
  {
   "cell_type": "code",
   "execution_count": null,
   "id": "6c7f2cfa-22ae-4e02-be0e-fa81c3e43cd4",
   "metadata": {},
   "outputs": [],
   "source": []
  },
  {
   "cell_type": "code",
   "execution_count": null,
   "id": "ebbf639e-a1f1-418e-bb10-40cbec88fa83",
   "metadata": {},
   "outputs": [],
   "source": [
    "Q5. How do you choose which type of Naive Bayes classifier to use for any given problem?"
   ]
  },
  {
   "cell_type": "code",
   "execution_count": null,
   "id": "23bdf7d2-b77f-48eb-a7c6-e3bb4ef0d06b",
   "metadata": {},
   "outputs": [],
   "source": [
    "Gaussian Naive Bayes classifier: used when features are not discreet. curve should be Gaussian or bell curve\n",
    "Multinomial Naive Bayes Classifier: used when features follow a multinomial distribution. data should be in text form.\n",
    "Bernoulli Naive Bayes classifier: used when features are of the boolean type. like 0 and 1 \n",
    "\n",
    "The naive Bayes classifier is an algorithm used to classify new data instances using a set of known training data. \n",
    "It is a good algorithm for classification; however,\n",
    "the number of features must be equal to the number of attributes in the data.\n",
    "\n",
    "Out of the 5 different Naive Bayes classifiers under sklearn.naive_bayes, \n",
    "the 3 most widely used ones are Gaussian, Multinomial, and Bernoulli.\n",
    "\n",
    "Multinomial Naive Bayes:\n",
    "This is mostly used for document classification problem, i.e whether a document belongs to the category of sports, politics, technology etc. \n",
    "The features/predictors used by the classifier are the frequency of the words present in the document."
   ]
  },
  {
   "cell_type": "code",
   "execution_count": null,
   "id": "b7936566-b3f5-45d4-9086-397a961fdc8c",
   "metadata": {},
   "outputs": [],
   "source": []
  },
  {
   "cell_type": "code",
   "execution_count": null,
   "id": "2df0ee27-33ef-4c27-b8f3-b65694b650d1",
   "metadata": {},
   "outputs": [],
   "source": [
    "Q6. Assignment:\n",
    "You have a dataset with two features, X1 and X2, and two possible classes, A and B. You want to use Naive \n",
    "Bayes to classify a new instance with features X1 = 3 and X2 = 4. The following table shows the frequency of \n",
    "each feature value for each class:\n",
    "\n",
    "Class\t X1=1 X1=2 \tX1=3 \tX2=1 \tX2=2 \tX2=3\t X2=4\n",
    "\n",
    " A\t 3\t 3\t 4\t 4\t 3\t 3\t 3\n",
    "\n",
    " B\t 2\t 2\t 1\t 2\t 2\t 2\t 3\n",
    "\n",
    "Assuming equal prior probabilities for each class, which class would Naive Bayes predict the new instance \n",
    "to belong to?"
   ]
  },
  {
   "cell_type": "code",
   "execution_count": null,
   "id": "701b8197-e54a-492d-9229-4a136440bc85",
   "metadata": {},
   "outputs": [],
   "source": [
    "Gaussian Naive Bayes classifier: used when features are not discreet. curve should be Gaussian distribution or bell curve\n",
    "Multinomial Naive Bayes Classifier: used when features follow a multinomial distribution. data should be in text form.\n",
    "Bernoulli Naive Bayes classifier: used when features are of the boolean type. like 0 and 1 \n",
    "\n",
    "In thisprolem features are folling Gaussian Distribution, so we will use Gaussian Naive Bayes classification."
   ]
  },
  {
   "cell_type": "code",
   "execution_count": null,
   "id": "6405b83b-15a3-4471-889b-dc1c8f35b4fb",
   "metadata": {},
   "outputs": [],
   "source": []
  },
  {
   "cell_type": "code",
   "execution_count": null,
   "id": "8f15daf9-efe2-4d12-877b-2f146c648f32",
   "metadata": {},
   "outputs": [],
   "source": []
  },
  {
   "cell_type": "code",
   "execution_count": null,
   "id": "0c85b8a7-c021-4368-9e2b-1d10ef267ed5",
   "metadata": {},
   "outputs": [],
   "source": []
  },
  {
   "cell_type": "code",
   "execution_count": null,
   "id": "740263f5-0e77-4ffc-bb5b-e8d86a631fb7",
   "metadata": {},
   "outputs": [],
   "source": []
  }
 ],
 "metadata": {
  "kernelspec": {
   "display_name": "Python 3 (ipykernel)",
   "language": "python",
   "name": "python3"
  },
  "language_info": {
   "codemirror_mode": {
    "name": "ipython",
    "version": 3
   },
   "file_extension": ".py",
   "mimetype": "text/x-python",
   "name": "python",
   "nbconvert_exporter": "python",
   "pygments_lexer": "ipython3",
   "version": "3.10.6"
  }
 },
 "nbformat": 4,
 "nbformat_minor": 5
}
